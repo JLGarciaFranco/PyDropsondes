{
  "cells": [
    {
      "cell_type": "code",
      "execution_count": null,
      "metadata": {
        "collapsed": false
      },
      "outputs": [],
      "source": [
        "%matplotlib inline"
      ]
    },
    {
      "cell_type": "markdown",
      "metadata": {},
      "source": [
        "\nPlot the drift of all dropsondes for a TC\n=====================================================\n\nThis example gives the typical plot that locates the dropsonde in a storm relative framework.\nTypically, this plot is shown in a cartesian coordinate system $(x,y)$, however, this example does it\nin cylindrical coordinates $(r,\theta)$, since, actually, to plot the dropsonde location in cartesian coordinates one must first, estimate $r$ and $theta$.\n\n\nSpecifically, the `best track <https://www.nhc.noaa.gov/data/#hurdat>`_ dataset, provides the maximum sustained winds at 10 m altitude (hereafter $U_{10}$)\nand the minimum surface pressure (hereafter $P_{min}$).\n\n\n"
      ]
    },
    {
      "cell_type": "code",
      "execution_count": null,
      "metadata": {
        "collapsed": false
      },
      "outputs": [],
      "source": [
        "# matplotlib is the main module in python for plotting.\nimport matplotlib.pyplot as plt\n# Numpy is our friend, it is the most important module.\nimport numpy as np\n# Dates and time module\nimport datetime\n# Pandas, unlike the bear, is used by python to read-in databases, in this case for the track database.\nimport pandas as pd\n# Import datetime module for handling date objects.\nimport datetime\n# Import glob module to rapidly access all files in a folder.\nimport glob\n# Import scipy module with the packaged of interpolate, in particular, get the function griddata (scipy can be heavy)\nfrom scipy.interpolate import griddata\n# Import all functions from toolbox.\nfrom toolbox import findproperties,getsamplingperiods,cart_to_cylindr,clean1,timeconversion\n# Import module to get-in the operating system\nimport os\n\n# Define function and arguments (refer to Sphinx)\ndef plotdrift(filelist,track,storm):\n        \"\"\"\n        Plot drift function\n\n        \"\"\"\n        # Outpudirectory\n        figdir='/home/jlgf/Documents/MRes/Project/figs/'+storm+'/'\n        # Create outputdirectory if non existent.\n        os.system('mkdir ../figs/'+storm)\n        # Get period sampling as a dictionary\n        print('Getting sample periods')\n        sampleperiods=getsamplingperiods(filelist,3.)\n\n        print('Plotting drift in the period :')\n        # First iteration is over the sampling periods to produce one plot for each sampling period.\n    #    sampleperiods=[datetime.datetime(2005,9,23,20,25,0)]\n\n        for sampindex,periodskey in enumerate(sampleperiods):\n            # The starting date (sdt) is the key of the dictionary, the value is then the end date (endt)\n            sdt=periodskey\n            endt=sampleperiods[periodskey]\n            # Print so user knows what time-span corresponds to this plot.\n            print(sdt,endt)\n\n            # Create empty lists.\n            lats=[]\n            lons=[]\n            rmaxis=[]\n            x=np.array([])\n            y=[]\n            dates=[]\n            maxr=10\n\n            #Create figure object with size of 11 megapixels and 9 megapixels.\n            plt.figure(figsize=(11,9))\n            # Make figure polar\n            ax = plt.subplot(111, projection='polar')\n            # Iterate over dropsondes files.\n            for filename in filelist:\n                print(filename)\n                # Establish type of file.\n                if 'radazm' in filename.split('/')[-1] or 'eol' in filename.split('/')[-1]:\n                \tend='radazm'\n                else:\n                \tend='avp'\n                # Get information from files.\n                dicc=findproperties(filename,end)\n                # Evaluate if current file is in sampling period.\n                if dicc['Launch Time']>=endt or dicc['Launch Time'] <= sdt:\n                # Following print can be enabled to see which files correspond to each plot but this can also saturate printing screen.\n                #\tprint('out of period')\n                \tcontinue\n\n                # Read-in data.\n                # Notice the following control sequence could have been inserted in line 65-68 above but read-in of data can be computationally expensive so we only read all fields\n                # if current file is in sampling period. This control sequence observes the end of th file.\n                if end =='avp':\n\n                    # The following description is the same for the end of file =='radazm'\n                    # Specify header and footer lengths\n                    head=6\n                    foot=20\n\n                    # Allocate indexes in file for longitude and latitude.\n                    longindex=11\n                    latindex=12\n                    nump=np.genfromtxt(filename,skip_header=head,skip_footer=foot)\n\n                    # Obtain hours minutes and seconds of measurement.\n                    yymmdd=nump[:,3]\n                    hhmmss=nump[:,4]\n                    hours,minutes,seconds=timeconversion(hhmmss)\n\n                elif end == 'radazm':\n                    # as for 'avp'\n                    head=16\n                    foot=0\n                    longindex=14\n                    latindex=15\n                    nump=np.genfromtxt(filename,skip_header=head,skip_footer=foot)\n                    hours=nump[:,1]\n                    minutes=nump[:,2]\n                    seconds=nump[:,3]\n\n                # Read in file, it is a numpy nd-array, which is suitable for the variable name of nump.\n\n                # Allocate variables.\n                lon=nump[:,longindex]\n                lat=nump[:,latindex]\n                Height=nump[:,13]\n\n                # Clean arrays from possible errors.\n                lon=clean1(lon)\n                lat=clean1(lat)\n                Height=clean1(Height)\n\n                # Check for empty arrays, if empty, continue to next file.\n                if np.isnan(np.nanmean(lon)) or np.isnan(np.nanmean(lat)):\n                \tprint('NaN error')\n                \tcontinue\n\n                # Estimate r and theta from the file.\n                r,theta=xytorth(np.nanmean(lon),np.nanmean(lat),track,dicc['Launch Time'])\n\n                # If distance is greater than 200 km, this dropsonde is not of interest, then continue to next file.\n                if r>200:\n                \tcontinue\n\n                # Emtpy lists to allocate for plotting.\n                xs=[]\n                ys=[]\n                rs=[]\n                thetas=[]\n                # Iteration over longitude array.\n                # Break lon in a enumerated tuple where j is the main index.\n                for j,longi in enumerate(lon):\n                    # Create datetime object using dictionary date and file hours/minutes/seconds\n                    date=datetime.datetime(dicc['Launch Time'].year,dicc['Launch Time'].month,dicc['Launch Time'].day,int(hours[j]),int(minutes[j]),int(seconds[j]))\n\n                    # If latitude or longitude are NAN's then continue to next value.\n                    if np.isnan(longi) or np.isnan(lat[j]) or np.isnan(Height[j]):\n                    \tcontinue\n\n                    # try and get r and theta from values, see sphinx toolbox.\n                    try:\n                    \tr,theta=cart_to_cylindr(longi,lat[j],track,date)\n                    except:\n                    \tcontinue\n\n                    # Add values to lists.\n                    rs.append(r)\n                    thetas.append(theta)\n                    xs.append(r*np.cos(theta))\n                    ys.append(r*np.sin(theta))\n\n                # Condtion to find outer edge of plot and make plot customized to current tiem period.\n                # This if only selects the biggest radius (maxr) found across the time=period.\n                if len(rs) <1:\n                    continue\n                if np.nanmax(rs)>maxr:\n                    maxr=np.nanmax(rs)\n\n                # Plot all thetas and radius.\n                ax.plot(thetas,rs,linewidth=3,label=str(date))\n\n            print('end of filelist loop')\n\n            # Select ticks based on maximum radius.\n            rticks=np.arange(0,maxr+10,25)\n\n            ## Sequence to obtain Radius of Maximum Wind (RMW) from flight-level data.\n            rms=track[3]['Rmax']\n            ris=0\n            counti=0\n            # Loop to find all RMW close to this datetime.\n            date=dicc['Launch Time']\n            for i,key in enumerate(rms):\n            \tif key>date-datetime.timedelta(hours=6) and key<dicc['Launch Time']+datetime.timedelta(hours=1):\n            \t\tris+=rms[key]\n            \t\tcounti+=1\n            # Average to get a mean RMW of the period.\n            if counti!=0:\n            \trmax=ris/counti\n            else:\n                rmax=0\n            # Make array of RMW of idntical shape as a plotting array (thetai) to be able to plot RMW.\n            rmaxis=[]\n            for thetai in np.arange(0,3*np.pi,np.pi/10):\n                rmaxis.append(rmax)\n\n            # Plot RMW.\n            ax.plot(np.arange(0,3*np.pi,np.pi/10.),rmaxis,linewidth=3,color='k')\n\n            # Plot settings.\n            ax.set_title('Dropsonde drift for '+storm+' on '+str(sdt),fontsize=16)\n            # Set raidus ticks and position.\n            ax.set_rticks(rticks)\n            ax.set_rlim([0,75])\n            ax.set_rlabel_position(135.)\n\n            # Add customized-grid.\n            ax.grid(alpha=0.5,linestyle='--')\n\n            #plt.legend()\n            # Show Plot.\n            plt.show()"
      ]
    }
  ],
  "metadata": {
    "kernelspec": {
      "display_name": "Python 3",
      "language": "python",
      "name": "python3"
    },
    "language_info": {
      "codemirror_mode": {
        "name": "ipython",
        "version": 3
      },
      "file_extension": ".py",
      "mimetype": "text/x-python",
      "name": "python",
      "nbconvert_exporter": "python",
      "pygments_lexer": "ipython3",
      "version": "3.6.3"
    }
  },
  "nbformat": 4,
  "nbformat_minor": 0
}
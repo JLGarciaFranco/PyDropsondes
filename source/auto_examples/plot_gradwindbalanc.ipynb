{
  "cells": [
    {
      "cell_type": "code",
      "execution_count": null,
      "metadata": {
        "collapsed": false
      },
      "outputs": [],
      "source": [
        "%matplotlib inline"
      ]
    },
    {
      "cell_type": "markdown",
      "metadata": {},
      "source": [
        "\n\nGradient wind balance\n\n\n"
      ]
    },
    {
      "cell_type": "code",
      "execution_count": null,
      "metadata": {
        "collapsed": false
      },
      "outputs": [],
      "source": [
        "import os\nimport numpy as np\nimport scipy\nimport sys\nimport matplotlib.pyplot as plt\nfrom toolbox import dp_dr,getgradwind\nfrom scipy.interpolate import griddata\n\nstorm='Isabel'\nsdate='16_12-21_12'\n\nmatrix=np.genfromtxt(storm+sdate+'.txt')\nr=matrix[:,0]\nH=matrix[:,5]\nu_cartesian=matrix[:,2]\nv_cartesian=matrix[:,3]\nv_tang=matrix[:,10]\nx=matrix[:,12]\ny=matrix[:,13]\nfcor=matrix[:,9]\npressure=matrix[:,8]\nthetas=matrix[:,1]\n\n\nri=np.arange(0,120,5)\nheight_vec=Hi=np.arange(70,2500,50)\ngradwind3d=np.zeros((len(ri)-1,len(height_vec)))\nfcoriols2d=np.zeros((len(ri),len(height_vec)))\nprint('Getting radial gradient of pressure and gradent wind')\nfor jindex,hh in enumerate(height_vec):\n  # Selection\n    indices=np.where((H>=hh-25)& (H<hh+25))[0]\n  # Quadratic interpolation\n    interp_pres=np.polyfit(r[indices],pressure[indices], deg=2)\n\n    a,b,c=interp_pres\n    pres=a*ri**2+b*ri+c\n  # Linear interpolation of coriolis.\n\n    finter = np.polyfit(r[indices], fcor[indices],1)\n    fis=finter[0]*(ri)+finter[1]\n\n  #Radial gradient of pressure\n    dpdr,newradius=dp_dr(pres,ri)\n\n  # Unit change of f\n    fis=fis*10**(-2)\n\n    fcoriols2d[:,jindex]=fis\n  #Gradient wind function\n    gradwind=getgradwind(dpdr,newradius,fis)\n    gradwind3d[:,jindex]=gradwind\n\nnewradius=newradius/1000\nplt.figure(figsize=(12,17))\nax=plt.subplot(311)\ncs=ax.contourf(newradius,height_vec,gradwind3d.T,levels=np.arange(-5,np.nanmax(v_tang)-10,5),cmap='rainbow')\nplt.colorbar(cs)\nmean_azi=scipy.interpolate.griddata((r,H),v_tang, (newradius[None,:], Hi[:,None]),method='linear')\nax.set_title('Gradient ',fontsize=15)\nax.set_ylabel('Height [m]',fontsize=15)\nax=plt.subplot(312)\ncs=ax.contourf(newradius,Hi,mean_azi,levels=np.arange(0,np.nanmax(v_tang)+2,5),cmap='jet')\nplt.colorbar(cs)\nax.set_title('Azimuthal ',fontsize=15)\nax.set_ylabel('Height [m]',fontsize=15)\nanomaly=mean_azi-gradwind3d.T\nax=plt.subplot(313)\ncs=ax.contourf(newradius,Hi,anomaly,levels=np.arange(-np.nanmax(anomaly),np.nanmax(anomaly),4),cmap='bwr')\nplt.colorbar(cs)\nax.set_title('Anomaly',fontsize=15)\nax.set_xlabel('Radius [km]',fontsize=15)\nax.set_ylabel('Height [m]',fontsize=16)\nplt.suptitle('Gradiend wind balance '+storm+' on '+sdate,fontsize=18)\nplt.savefig('figs/gradwind'+sdate+'.png')\n#plt.show()\nplt.close()\n\n\nmomentum=np.zeros((len(ri),len(height_vec)))\nvt_interp=scipy.interpolate.griddata((r,H),v_tang, (ri[None,:], Hi[:,None]),method='linear')\n\n#Momentum estimation\nfor index,r0 in enumerate(ri):\n    vr=vt_interp[:,index]*r0*1000\n    fr2=fcoriols2d[index,:]*(r0**2)\n    momentum[index,:]=vr+(0.5)*fr2\n\nplt.contourf(ri,Hi,momentum.T,levels=10**(6)*np.arange(0,7,1),cmap='Spectral')\nplt.colorbar(label=r'$m^2 s^{-1}$')\nplt.ylabel('Height [m]',fontsize=15)\nplt.xlabel('Radius [km]',fontsize=15)\nplt.title('Momentum on '+storm+' on '+sdate,fontsize=16 )\nplt.savefig('figs/momentum'+sdate+'.png')\nplt.show()"
      ]
    }
  ],
  "metadata": {
    "kernelspec": {
      "display_name": "Python 3",
      "language": "python",
      "name": "python3"
    },
    "language_info": {
      "codemirror_mode": {
        "name": "ipython",
        "version": 3
      },
      "file_extension": ".py",
      "mimetype": "text/x-python",
      "name": "python",
      "nbconvert_exporter": "python",
      "pygments_lexer": "ipython3",
      "version": "3.6.3"
    }
  },
  "nbformat": 4,
  "nbformat_minor": 0
}
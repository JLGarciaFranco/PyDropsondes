{
  "cells": [
    {
      "cell_type": "code",
      "execution_count": null,
      "metadata": {
        "collapsed": false
      },
      "outputs": [],
      "source": [
        "%matplotlib inline"
      ]
    },
    {
      "cell_type": "markdown",
      "metadata": {},
      "source": [
        "\nSyntaxError\n===========\n\nExample script with invalid Python syntax\n\n"
      ]
    },
    {
      "cell_type": "code",
      "execution_count": null,
      "metadata": {
        "collapsed": false
      },
      "outputs": [],
      "source": [
        "# -*- coding: utf-8 -*-\n\"\"\"\nCAPE and CIN computation\n-----------------------------\n\nThe functions found below are completely random and might no be related with one another.\n\"\"\"\n\nimport numpy as np\nimport pandas as pd\nimport matplotlib.pyplot as plt\nimport datetime\nimport os\n#metpy module import\nfrom metpy.calc import saturation_mixing_ratio\nfrom metpy.plots import add_metpy_logo, SkewT\nimport metpy.calc as mpcalc\nfrom metpy.units import units,concatenate\n# import all from toolbox\nfrom toolbox import *\n\n\ndef cape(filelist,storm,track):\n    #Sort filelist.\n    filelist=np.sort(filelist)\n\n    # Get sampling periods (this will be a dictionary). See the toolbox\n    print('Retrieving sampling periods')\n    sampleperiods=getsamplingperiods(filelist,3.)\n\n    # Iterate over all sampling periods.\n    for sampindex,periodskey in enumerate(sampleperiods):\n\n        #Allocate starting (stdt) and ending date (endt). Remeber dt is the convetional short-name for date.\n        stdt=periodskey\n        endt=sampleperiods[periodskey]\n\n        # Define sampling period string\n        period=str(stdt.hour)+'_'+str(stdt.day)+'-'+str(endt.hour)+'_'+str(endt.day)\n\n        # Create new-empty lists.\n        lats=[]\n        lons=[]\n        xs=[]\n        ys=[]\n        capes=[]\n        cins=[]\n\n        print('start filelist loop')\n        # Iterate over all files.\n        for filename in filelist:\n\n\n\n            # Select end-name of file by inspecting filename string. Notice how filename can change how file is read.\n            if 'radazm' in filename.split('/')[-1] or 'eol' in filename.split('/')[-1]:\n                end='radazm'\n            else:\n                end='avp'\n            # Obtain properties of file, i.e., launch time and location into a dictionary (dicc).\n            dicc=findproperties(filename,end)\n\n            # Condition to see if current file is in sampling period.\n            # Notice how if structure is constructed, condition finds times outside of sampling period and\n            # if found outside the sampling period, continue to next file.\n            if dicc['Launch Time']<stdt or dicc['Launch Time'] > endt:\n                continue\n\n            nump=np.genfromtxt(filename,skip_header=16,skip_footer=0)\n            temperature=clean1(nump[:,5])\n            pressure=clean1(nump[:,4])\n            Height=clean1(nump[:,13])\n            if np.nanmax(Height)<3500:\n                continue\n            #Clean for cape\n            RelH=clean1(nump[:,7])\n            lon=clean1(nump[:,14])\n            lat=clean1(nump[:,15])\n            lon=clean1(lon)\n            lat=clean1(lat)\n            mlon=np.nanmean(lon)\n            mlat=np.nanmean(lat)\n            RH=RelH/100\n            T,P,rh,dz=cleanforcape(temperature,pressure,RH,Height)\n\n            #Metpy set-up\n            T=np.flip(T,0)\n            rh=np.flip(rh,0)\n            p=np.flip(P,0)\n            dz=np.flip(dz,0)\n            p=p*units.hPa\n            T=T*units.celsius\n\n\n            mixing=rh*mpcalc.saturation_mixing_ratio(p,T)\n            epsilon=0.6219800858985514\n            Tv=mpcalc.virtual_temperature(T, mixing,\n                                      molecular_weight_ratio=epsilon)\n            dwpoint=mpcalc.dewpoint_rh(T, rh)\n\n            blh_indx=np.where(dz<500)\n            try:\n                parcelprofile=mpcalc.parcel_profile(p,np.nanmean(T[blh_indx])*units.celsius,mpcalc.dewpoint_rh(np.nanmean(T[blh_indx])*units.celsius, np.nanmean(rh[blh_indx]))).to('degC')\n                Tv_parcelprofile=mpcalc.virtual_temperature(parcelprofile, mixing,\n                                          molecular_weight_ratio=epsilon)\n                cape,cin=cape_cin(p,Tv,dwpoint,Tv_parcelprofile,dz,T)\n            except:\n                continue\n\n            plotskewT=True\n            if plotskewT==True:\n\n                os.system('mkdir figs/skewt')\n                fig = plt.figure(figsize=(9, 9))\n                skew = SkewT(fig, rotation=45)\n                skew.ax.set_ylim(1000, 100)\n                skew.ax.set_xlim(-40, 60)\n\n                skew.plot(p, dwpoint, 'g',label=r'$T_{dp}$')\n                skew.plot(p, Tv, 'r',label=r'$T_v$')\n                plt.text(-120,120,str(np.around(cape,2)),fontsize=14,fontweight='bold')\n\n                # Plot the data using normal plotting functions, in this case using\n                # log scaling in Y, as dictated by the typical meteorological plot\n                skew.plot(p,Tv_parcelprofile,'k',label=r'$T_{v env}$')\n                skew.shade_cin(p, T, parcelprofile,label='CIN')\n                skew.shade_cape(p, Tv, Tv_parcelprofile,label='CAPE')\n                skew.plot_dry_adiabats()\n                skew.plot_moist_adiabats()\n\n                plt.legend()\n                plt.title(storm + ' on' + period,fontsize=14)\n                plt.savefig('figs/skewt/'+storm+str(dicc['Launch Time'].time())+'.png')\n                #plt.show()\n                plt.close()\n\n            r,theta=cart_to_cylindr(mlon,mlat,track,dicc['Launch Time'])\n            if not(np.isnan(r)) and not(np.isnan(theta)) and not(np.isnan(cape.magnitude)):\n                xs.append(r*np.cos(theta))\n                ys.append(r*np.sin(theta))\n                capes.append(cape.magnitude)\n                cins.append(cin)\n\n            fig = plt.figure(figsize=(13, 9))\n            plt.scatter(xs,ys,c=np.asarray(capes),cmap='jet')\n            for i,xi in enumerate(xs):\n                plt.text(xi,ys[i]+10,str(np.around(capes[i],1)))\n\n        plt.colorbar(label=r\"$J/kg$')\n        plt.scatter(0,0,marker='v',s=100,color='black')\n        plt.grid()\n        plt.xlabel('X distance [km]')\n        plt.ylabel('Y distance [km]')\n        plt.title('CAPE distribution for '+storm+' on '+period,fontsize=14)\n        plt.savefig('figs/cape'+storm+period+'.png')\n        #plt.close()"
      ]
    }
  ],
  "metadata": {
    "kernelspec": {
      "display_name": "Python 3",
      "language": "python",
      "name": "python3"
    },
    "language_info": {
      "codemirror_mode": {
        "name": "ipython",
        "version": 3
      },
      "file_extension": ".py",
      "mimetype": "text/x-python",
      "name": "python",
      "nbconvert_exporter": "python",
      "pygments_lexer": "ipython3",
      "version": "3.6.3"
    }
  },
  "nbformat": 4,
  "nbformat_minor": 0
}
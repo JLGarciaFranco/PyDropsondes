{
  "cells": [
    {
      "cell_type": "code",
      "execution_count": null,
      "metadata": {
        "collapsed": false
      },
      "outputs": [],
      "source": [
        "%matplotlib inline"
      ]
    },
    {
      "cell_type": "markdown",
      "metadata": {},
      "source": [
        "\nPlotting example 1\n========================\n\n\n\n"
      ]
    },
    {
      "cell_type": "code",
      "execution_count": null,
      "metadata": {
        "collapsed": false
      },
      "outputs": [],
      "source": [
        "# Basemap is a python-module to create accurate and stylish maps.\nfrom mpl_toolkits.basemap import Basemap\nimport matplotlib.pyplot as plt\n# Numpy is our friend, it is the most important module.\nimport numpy as np\n# Dates and time module\nimport datetime\n# Patches is a secondary tool used to create the handles of the strength-legend.\nimport matplotlib.patches as mpatches\n# Pandas, unlike the bear, is used by python to read-in databases, in this case for the track database.\nimport pandas as pd\n# We import the function distance from our toolbox.\nfrom toolbox import distance\n# We import matplotlib, the graphing module tool of python. The abbreviation plt, as np and pd are used as conventional Python docs indicate.\nimport matplotlib.pyplot as plt\n# trackhandles is an auxiliary script to create Handle Objects.\nfrom trackhandles import *\n\n# Get track function of storm and year.\ndef getrack(storm,year):\n    r\"\"\"\n    Obtain the track of a storm specifying the year since storm names can be repeated. .\n\n    This function obtains and returns all track parameters, location, intensity and relative speed.\n\n    *Parameters*\n\n    storm : `string`\n        Name of storm.\n    year : `string`\n        Year of storm.\n\n    *Returns*\n\n    longitudes :`np.ndarray (type=np.float)`\n    latitudes:`np.ndarray(type=np.float)`\n    windspeeds:`np.ndarray(type=np.float)`\n    Intensity_label: `list`\n        List of Intensity Labels, e.g., (H) for Hurricane.\n    df.index:`pandas.DataFrame.Index`\n        List of dates that correspond to the dates and times of the previous arrays.\n\n    *Examples*\n\n    >>> from toolbox import dp_dr\n    >>> dpdr=getrack('Isabel','2003')\n\n\n    \"\"\"\n    # we use pandas to read in the data as a Pandas.DataFrame. As pandas-convention dictates, df =dataframe is used as variable name for the object.\n    df=pd.read_csv('track_w.csv')\n    # We select the storm by also indicating the year. Storm names can be repeated!\n    df=df[(df['Storm Name']==storm.upper()) & (df['Year']==int(year))]\n    # Pandas DataFrame use indexes, which are useful as they sort our data by date.\n    df.index=df['Datetime']\n    # Convert index to datetime-objects\n    df.index=pd.to_datetime(df.index)\n    # empty lists to be filled with values of the track.\n    latitudes=[]\n    longitudes=[]\n    windspeeds=[]\n    Intensity_label=[]\n    # Iterate over the dates in the pandas dataframe index\n    for date in df.index:\n      # Select values for current date.\n      values=df.loc[date]\n      # Append-paste to lists\n      latitudes.append(float(values['Latitude'][0:4]))\n      longitudes.append(-float(values['Longitude'][1:5]))\n      windspeeds.append(float(values['windspeed']))\n      Intensity_label.append(values['Intensity'])\n    # Return track records.\n    return longitudes,latitudes,windspeeds,Intensity_label,df.index\ndef plotrack(storm,year):\n    # Call getrack function and allocate variable names\n    lon,lat,speedvec,intensity,dates=getrack(storm,year)\n    # Determine map size according to how the track is distributed\n    if np.std(lon)>np.std(lat):\n        legend_location=(0.5,-0.015)\n        columns=3\n        plt.figure(figsize=(17,14))\n    else:\n        legend_location=(1.05, 1)\n        columns=1\n        plt.figure(figsize=(14,12))\n    # Create basemap object depending on track parameters of latitude and longitude.\n    m = Basemap(llcrnrlon=np.nanmin(lon)-5,llcrnrlat=np.nanmin(lat)-2.5,urcrnrlon=np.nanmax(lon)+2.*np.std(lon),urcrnrlat=np.nanmax(lat)+2.5,\n                projection='lcc',lon_0=np.mean(lon),lat_0=np.mean(lat),\n                resolution ='l',area_thresh=1000.)\n    # Basemap style to draw coastlines, countries and states (important if looking at high-impact storms)\n    m.bluemarble()\n    m.drawcoastlines()\n    m.drawcountries()\n    m.drawstates()\n    # Drawing parallels and meridians with certain 10 and 15 degrees spacing, respectively.\n    parallels = np.arange(0.,81,10.)\n    m.drawparallels(parallels,labels=[False,True,True,False],color='wheat')\n    meridians = np.arange(0.,351.,15.)\n    m.drawmeridians(meridians,labels=[True,False,False,True],color='white')\n    # Status will be part of the final title of this plot, Tropical Cyclones are named usually after their strongest status, Hurricane, Tropical Storm and so on.\n    status=''\n    # Daylist is the actual days that this storm lasted. The following loop will fill it with all the days with a track value.\n    daylist=[]\n    # Iterate over the speed array, it could easily be longitude or latitude since they are the same length but you can tell why this makes things easier.\n    for index,speed in enumerate(speedvec):\n        # The following ifs determine the color and size of the marker in the plot, according to the legend.\n        # Funny enough, first we define the marker colors and it is until the end of the loop that we determine the legend\n        # In this category are Tropical Storms\n        if speed > 34 and speed < 64:\n            dotcolor='aqua'\n            size=6.5\n            if status!=\"Hurricane\":\n                status=\"Tropical Storm\"\n        # Here are Hurricanes.\n        elif speed >=64:\n            status='Hurricane'\n            # Distinguish light-strong-major Hurricanes.\n            if speed <82:\n                #Light hurricanes.\n                dotcolor='yellow'\n                size=9\n            elif speed >= 82 and speed <112:\n                # Strong hurricanes.\n                dotcolor='orange'\n                size=12\n            elif speed >= 112:\n                # Major Hurricanes.\n                dotcolor='red'\n                size=18\n        else:\n            # If it was too weak, it was probably a depression.\n            if status!=\"Hurricane\" and status!=\"Tropical Storm\":\n                status=\"Tropical Depression\"\n            dotcolor='blue'\n            size=3.5\n          # A final color change might apply if the storm is categorized with the label \"EX\"\n          # as such, we set up a different color\n        if intensity[index]==' EX':\n            dotcolor='magenta'\n            size=5\n        # Plot the marker with the specified color and size on the proper coordinates.\n        m.scatter(m(lon[index],lat[index])[0],m(lon[index],lat[index])[1],s=size*7.5,c=dotcolor)\n        # Add dates to daylist if they are not already in there and plot them.\n        if dates[index].day not in daylist:\n            daylist.append(dates[index].day)\n            plt.text(m(lon[index]+.75,lat[index]+1.25)[0],m(lon[index]+.75,lat[index]+1.25)[1],dates[index].day,color='darkgreen',fontsize=10,backgroundcolor='lime')\n    # We also overlay a white dotted line on the track.\n    m.plot(m(lon,lat)[0],m(lon,lat)[1],'--',color='white')\n    # Add title.\n    plt.title(status+' '+storm+' '+year,fontsize=20)\n    # Adding the legend object, use of handle package and Handle Objects. Each \"dummy handle\" is associated with their respective handle (which plots the marker color).\n    plt.legend([MObject(),Hurricane3Object(),Hurricane1Object(),TSObject,TDObject,EXObject], [\"Major Hurricane (M)\",\"Hurricane Cat. 3-4 (H)\",\"Hurricane Cat. 1-2 (H)\",\"Tropical Storm (TS)\",\"Tropical Depression (TD)\",\"Extratropical Cyclone (EX)\"]\n        ,handler_map={MObject: MajorHurricaneObjectHandler(),Hurricane3Object: Hurricane3ObjectHandler(),Hurricane1Object: Hurricane1ObjectHandler(),TSObject: TSObjectHandler(),TDObject: TDObjectHandler(),EXObject: EXObjectHandler()},\n        title=\"Legend\",bbox_to_anchor=legend_location,ncol=columns)\n    # Show final product.\n    plt.show()"
      ]
    }
  ],
  "metadata": {
    "kernelspec": {
      "display_name": "Python 3",
      "language": "python",
      "name": "python3"
    },
    "language_info": {
      "codemirror_mode": {
        "name": "ipython",
        "version": 3
      },
      "file_extension": ".py",
      "mimetype": "text/x-python",
      "name": "python",
      "nbconvert_exporter": "python",
      "pygments_lexer": "ipython3",
      "version": "3.6.3"
    }
  },
  "nbformat": 4,
  "nbformat_minor": 0
}
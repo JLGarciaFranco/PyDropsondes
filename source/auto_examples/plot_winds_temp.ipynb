{
  "cells": [
    {
      "cell_type": "code",
      "execution_count": null,
      "metadata": {
        "collapsed": false
      },
      "outputs": [],
      "source": [
        "%matplotlib inline"
      ]
    },
    {
      "cell_type": "markdown",
      "metadata": {},
      "source": [
        "\nPlotting the wind and temperature structure of a TC\n=====================================================\n\nThis example gives the typical plot of pressure and wind speed from the best track dataset.\n\nSpecifically, the `best track <https://www.nhc.noaa.gov/data/#hurdat>`_ dataset, provides the maximum sustained winds at 10 m altitude (hereafter $U_{10}$)\nand the minimum surface pressure (hereafter $P_{min}$).\n\n\n"
      ]
    },
    {
      "cell_type": "code",
      "execution_count": null,
      "metadata": {
        "collapsed": false
      },
      "outputs": [],
      "source": [
        "import os\nimport numpy as np\nimport scipy\nimport sys\nimport matplotlib.pyplot as plt\nfrom toolbox import potential_temperature\nfrom scipy.interpolate import griddata\nmatrix=np.genfromtxt('tempjulia.txt')\nr=matrix[:,0]\nH=matrix[:,5]\nu_radial=matrix[:,11]\nv_tang=matrix[:,10]\nx=matrix[:,12]\ny=matrix[:,13]\ntemperature=matrix[:,6]\nthetae=matrix[:,7]\nbinning=False\nthetas=matrix[:,1]\n#storm=sys.argv[1]\n#sdate=sys.argv[2]\nstorm='Rita'\nsdate='21-09-2005'\nprint(sdate)\nfigdir='/home/jlgf/Documents/MRes/Project/figs/'+storm+'/'\n\nri=np.arange(0,100,2.5)\nHi=np.arange(50,3200,100)\nmean_azi=scipy.interpolate.griddata((r,H),v_tang, (ri[None,:], Hi[:,None]),method='linear')\nmean_radial=scipy.interpolate.griddata((r,H),u_radial, (ri[None,:], Hi[:,None]),method='linear')\nmean_temp=scipy.interpolate.griddata((r,H),temperature, (ri[None,:], Hi[:,None]),method='linear')\nmean_vert=scipy.interpolate.griddata((r,H),thetae, (ri[None,:], Hi[:,None]),method='linear')\nplt.figure(figsize=(14,10))\nplottingdictionary={\"Radial wind\":mean_radial,\"Azimuthal wind\":mean_azi,\"Potential temperature\":mean_temp,r\"$\\theta_e$\":mean_vert}\ncolormaps=['seismic','rainbow','coolwarm','gist_rainbow']\nlabels=[r'm s$^{-1}$',r'm s$^{-1}$','K',r'K']\nspacing=[2,4,1.5,2]\ncounter=0\nfor variable in plottingdictionary.keys():\n\tfield=plottingdictionary[variable]\n\tax=plt.subplot(221+counter)\n\tCS=plt.contourf(ri,Hi,field,cmap=colormaps[counter],levels=np.arange(int(np.nanmin(field))-(spacing[counter]/2),int(np.nanmax(field))+(spacing[counter]),spacing[counter]))\n\tplt.xlabel('Radius [km] ',fontsize=14)\n\tplt.ylabel('Height [m] ',fontsize=14)\n#\tax.scatter(r,H,color='black',s=1)\n\tplt.title(variable,fontsize=16)\n\tplt.xlim([0,100])\n\tplt.ylim([0,3000])\n\tplt.colorbar(CS,label=labels[counter])\n\tcounter+=1\n\nplt.suptitle(' Cross sections of '+storm+' on '+str(sdate),fontsize=19)\nplt.savefig('figs/crossect_nolines'+str(sdate)+'.png')\n\n#\tprint(indices[0])\nheights=[100,400,800,2000]\nfigwinds=plt.figure(figsize=(18,7))\nfigtemps=plt.figure(figsize=(18,7))\nxi=np.arange(-95,95,2.5)\nyi=np.arange(-95,95,2.5)\nfor counter,hh in enumerate(heights):\n\tindices=np.where((H>hh-40)& (H<hh+40))\n\tshortx=x[indices]\n\tshorty=y[indices]\n\tspacing=[2,4,0.75,1.5]\n\tplottingdictionary={\"Radial wind\":u_radial,\"Azimuthal wind\":v_tang,\"Potential temperature\":temperature,r\"$\\theta_e$\":thetae}\n\tfor incounter,key in enumerate(plottingdictionary.keys()):\n\t\tif key==\"Radial wind\":\n\t\t\tax=figwinds.add_subplot(241+counter)\n\t\telif key == \"Azimuthal wind\":\n\t\t\tax=figwinds.add_subplot(245+counter)\n\t\telif key==\"Potential temperature\":\n\t\t\tax=figtemps.add_subplot(241+counter)\n\t\telse:\n\t\t\tax=figtemps.add_subplot(245+counter)\n\t\tsliced_var=plottingdictionary[key][indices]\n\t\tinterp_var=scipy.interpolate.griddata((shortx,shorty),sliced_var, (xi[None,:], yi[:,None]),method='linear')\n\t\tif key==\"Radial wind\" and hh <500:\n\t\t\tlevelss=np.arange(int(np.nanmin(interp_var))-(spacing[incounter]/2),-int(np.nanmin(interp_var))+spacing[incounter],spacing[incounter])\n\t\telse:\n\t\t\tlevelss=np.arange(int(np.nanmin(interp_var)-(spacing[incounter]/2)),int(np.nanmax(interp_var)+(spacing[incounter])),spacing[incounter])\n\t\tcs=ax.contourf(xi,yi,interp_var,cmap=colormaps[incounter],levels=levelss)\n\t\tplt.colorbar(cs,ax=ax)\n\t\tax.set_title(key+' at '+str(hh)+' m',fontsize=16)\nfigwinds.suptitle('Plan views of cylindrical winds of '+storm+' on '+str(sdate),fontsize=19)\nfigtemps.suptitle('Plan views of temperature fields of '+storm+' on '+str(sdate),fontsize=19)\nfigwinds.savefig('figs/winds_'+str(sdate)+'.png')\nfigtemps.savefig('figs/temps_'+str(sdate)+'.png')"
      ]
    }
  ],
  "metadata": {
    "kernelspec": {
      "display_name": "Python 3",
      "language": "python",
      "name": "python3"
    },
    "language_info": {
      "codemirror_mode": {
        "name": "ipython",
        "version": 3
      },
      "file_extension": ".py",
      "mimetype": "text/x-python",
      "name": "python",
      "nbconvert_exporter": "python",
      "pygments_lexer": "ipython3",
      "version": "3.6.3"
    }
  },
  "nbformat": 4,
  "nbformat_minor": 0
}
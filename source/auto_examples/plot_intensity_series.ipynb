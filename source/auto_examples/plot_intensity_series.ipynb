{
  "cells": [
    {
      "cell_type": "code",
      "execution_count": null,
      "metadata": {
        "collapsed": false
      },
      "outputs": [],
      "source": [
        "%matplotlib inline"
      ]
    },
    {
      "cell_type": "markdown",
      "metadata": {},
      "source": [
        "\nPlotting the intensity metrics of a Tropical Cyclone\n=====================================================\n\nThis example gives the typical plot of pressure and wind speed from the best track dataset.\n\nSpecifically, the `best track <https://www.nhc.noaa.gov/data/#hurdat>`_ dataset, provides the maximum sustained winds at 10 m altitude (hereafter $U_{10}$)\nand the minimum surface pressure (hereafter $P_{min}$).\n\n\n"
      ]
    },
    {
      "cell_type": "code",
      "execution_count": null,
      "metadata": {
        "collapsed": false
      },
      "outputs": [],
      "source": [
        "# matplotlib is the main module in python for plotting.\nimport matplotlib.pyplot as plt\n# Numpy is our friend, it is the most important module.\nimport numpy as np\n# Dates and time module\nimport datetime\n# Pandas, unlike the bear, is used by python to read-in databases, in this case for the track database.\nimport pandas as pd\n# Get track function of storm and year.\ndef intensityplot(storm,year):\n    # we use pandas to read in the data as a Pandas.DataFrame. As pandas-convention dictates, df =dataframe is used as variable name for the object.\n    df=pd.read_csv('track_w.csv')\n    # We select the storm by also indicating the year. Storm names can be repeated!\n    df=df[(df['Storm Name']==storm.upper()) & (df['Year']==int(year))]\n    # Pandas DataFrame use indexes, which are useful as they sort our data by date.\n    df.index=df['Datetime']\n    # Convert index to datetime-objects\n    df.index=pd.to_datetime(df.index)\n    # empty lists to be filled with values of the track.\n    latitudes=[]\n    longitudes=[]\n    windspeeds=[]\n    pressures=[]\n    Intensity_label=[]\n    # Iterate over the dates in the pandas dataframe index\n    for date in df.index:\n        # Select values for current date.\n        values=df.loc[date]\n        # Append-paste to lists\n        latitudes.append(float(values['Latitude'][0:4]))\n        longitudes.append(-float(values['Longitude'][1:5]))\n        windspeeds.append(float(values['windspeed']))\n        pressures.append(float(values['pressure']))\n        Intensity_label.append(values['Intensity'])\n    if np.nanmax(windspeeds)>64:\n        status='Hurricane'\n    elif np.nanmax(windspeeds)>34:\n        status='Tropical Storm'\n    else:\n        status='Tropical Depression'\n    windspeeds=np.array(windspeeds)\n    windspeeds=windspeeds*0.514444444\n\n    # Create the figure, with a certain size\n    fig, ax1 = plt.subplots(figsize=(12,7))\n    # Plot wind speed.\n    ax1.plot(df.index,windspeeds,'k',label=r'$U_{10}$',linewidth=3)\n    # Wind label.\n    ax1.set_ylabel(r'Wind speed [$m s^{-1}$]',fontsize=15)\n    # Put the legend.\n    plt.legend()\n    # Make the twin-axis\n    ax2=ax1.twinx()\n    # Plot the pressure field\n    ax2.plot(df.index,pressures,'b--',label=r'$P_{min}$',linewidth=3)\n    # Put pressure label\n    ax2.set_ylabel('Pressure (mb)',fontsize=15)\n    # X-axis label is time\n    ax1.set_xlabel('Date',fontsize=15)\n    #Put grid-on and the legend.\n    plt.grid()\n    plt.legend()\n    # Create title\n    plt.title(status+' '+storm+' '+year,fontsize=18)\n    #Save plot\n    plt.savefig('figs/Ivan04intensity.png')\n    # Show plot\n    plt.show()\nintensityplot('Ivan','2004')"
      ]
    }
  ],
  "metadata": {
    "kernelspec": {
      "display_name": "Python 3",
      "language": "python",
      "name": "python3"
    },
    "language_info": {
      "codemirror_mode": {
        "name": "ipython",
        "version": 3
      },
      "file_extension": ".py",
      "mimetype": "text/x-python",
      "name": "python",
      "nbconvert_exporter": "python",
      "pygments_lexer": "ipython3",
      "version": "3.6.3"
    }
  },
  "nbformat": 4,
  "nbformat_minor": 0
}
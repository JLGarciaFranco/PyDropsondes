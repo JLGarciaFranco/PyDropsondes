{
  "cells": [
    {
      "cell_type": "code",
      "execution_count": null,
      "metadata": {
        "collapsed": false
      },
      "outputs": [],
      "source": [
        "%matplotlib inline"
      ]
    },
    {
      "cell_type": "markdown",
      "metadata": {},
      "source": [
        "\nTrack Handles\n--------------\n\nThis separate pieces of code, though repeated at first glance, each determine a different Python-Object, which\nwould require very formal Python to condense. For clarity, we have chosen the *long* version of explictly stating all objects. \n\n"
      ]
    },
    {
      "cell_type": "code",
      "execution_count": null,
      "metadata": {
        "collapsed": false
      },
      "outputs": [],
      "source": [
        "import matplotlib.patches as mpatches\nclass MObject(object):\n    pass\nclass Hurricane1Object(object):\n    pass\nclass Hurricane3Object(object):\n    pass\nclass MajorHurricaneObjectHandler(object):\n    def legend_artist(self, legend, orig_handle, fontsize, handlebox):\n        x0, y0 = handlebox.xdescent, handlebox.ydescent\n        patch = mpatches.Circle([13, 4],6.5,facecolor='red',\n                                   transform=handlebox.get_transform())\n        handlebox.add_artist(patch)\n        return patch\nclass Hurricane1ObjectHandler(object):\n    def legend_artist(self, legend, orig_handle, fontsize, handlebox):\n        x0, y0 = handlebox.xdescent, handlebox.ydescent\n        patch = mpatches.Circle([13, 4],4.5,facecolor='yellow',\n                                   transform=handlebox.get_transform())\n        handlebox.add_artist(patch)\n        return patch\nclass Hurricane3ObjectHandler(object):\n    def legend_artist(self, legend, orig_handle, fontsize, handlebox):\n        x0, y0 = handlebox.xdescent, handlebox.ydescent\n        patch = mpatches.Circle([13, 4],5.25,facecolor='orange',\n                                   transform=handlebox.get_transform())\n        handlebox.add_artist(patch)\n        return patch\nclass TSObject(object):\n    pass\nclass TDObject(object):\n    pass\nclass EXObject(object):\n    pass\nclass TWObject(object):\n    pass\nclass TSObjectHandler(object):\n    def legend_artist(self, legend, orig_handle, fontsize, handlebox):\n        x0, y0 = handlebox.xdescent, handlebox.ydescent\n        patch = mpatches.Circle([13, 4],4,facecolor='aqua',\n                                   transform=handlebox.get_transform())\n        handlebox.add_artist(patch)\n        return patch\nclass TDObjectHandler(object):\n    def legend_artist(self, legend, orig_handle, fontsize, handlebox):\n        x0, y0 = handlebox.xdescent, handlebox.ydescent\n        width, height = handlebox.width, handlebox.height\n        center = 0.5 * width - 0.5 * handlebox.xdescent, 0.5 * height - 0.5 * handlebox.ydescent\n        patch = mpatches.Circle([13,4],3,facecolor='blue',\n                                   transform=handlebox.get_transform())\n        handlebox.add_artist(patch)\n        return patch\nclass EXObjectHandler(object):\n    def legend_artist(self, legend, orig_handle, fontsize, handlebox):\n        x0, y0 = handlebox.xdescent, handlebox.ydescent\n        width, height = handlebox.width, handlebox.height\n        center = 0.5 * width - 0.5 * handlebox.xdescent, 0.5 * height - 0.5 * handlebox.ydescent\n        patch = mpatches.Circle([13,4],4,facecolor='magenta',\n                                   transform=handlebox.get_transform())\n        handlebox.add_artist(patch)\n        return patch"
      ]
    }
  ],
  "metadata": {
    "kernelspec": {
      "display_name": "Python 3",
      "language": "python",
      "name": "python3"
    },
    "language_info": {
      "codemirror_mode": {
        "name": "ipython",
        "version": 3
      },
      "file_extension": ".py",
      "mimetype": "text/x-python",
      "name": "python",
      "nbconvert_exporter": "python",
      "pygments_lexer": "ipython3",
      "version": "3.6.3"
    }
  },
  "nbformat": 4,
  "nbformat_minor": 0
}
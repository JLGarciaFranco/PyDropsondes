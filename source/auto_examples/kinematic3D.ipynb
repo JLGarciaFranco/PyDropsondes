{
  "cells": [
    {
      "cell_type": "code",
      "execution_count": null,
      "metadata": {
        "collapsed": false
      },
      "outputs": [],
      "source": [
        "%matplotlib inline"
      ]
    },
    {
      "cell_type": "markdown",
      "metadata": {},
      "source": [
        "\nPlot the 3D kinematic structure of a TC\n=====================================================\n\nOne of the most important kinematic metrics are vorticity and divergence. Both\ndirectly related to the first spatial derivative of the wind components.\n\n\n\n\n"
      ]
    },
    {
      "cell_type": "code",
      "execution_count": null,
      "metadata": {
        "collapsed": false
      },
      "outputs": [],
      "source": [
        "import os\nimport sys\nimport numpy as np\nimport matplotlib.pyplot as plt\nfrom toolbox import convergence_vorticity\nfrom scipy.interpolate import griddata\n\nmatrix=np.genfromtxt('tempjulia.txt')\nradius=matrix[:,0]\nHeight=H=matrix[:,5]\nu_cartesian=matrix[:,2]\nv_cartesian=matrix[:,3]\nu_radial=matrix[:,11]\nv_tang=matrix[:,10]\nx=matrix[:,12]\ny=matrix[:,13]\ntemperature=matrix[:,6]\npressure=matrix[:,8]\nthetas=matrix[:,1]\n\nstorm=sys.argv[1]\nsdate=sys.argv[2]\nprint(sdate)\nfigdir='/home/jlgf/Documents/MRes/Project/figs/'+storm+'/'\nxi=np.arange(-140,140,5)\nyi=np.arange(-140,140,5)\nheight_vec=Hi=np.arange(50,2800,50)\nvorticity=np.zeros((len(xi),len(yi),len(Hi)))\ndivergence=np.zeros((len(xi),len(yi),len(Hi)))\n\n\nfor ij,H0 in enumerate(height_vec):\n    try:\n        indices=np.where((H>=H0-50)& (H<H0))[0]\n        u_xh=griddata((x[indices],y[indices]),u_cartesian[indices], (xi[None,:], yi[:,None]),method='linear')\n        v_xh=griddata((x[indices],y[indices]),v_cartesian[indices], (xi[None,:], yi[:,None]),method='linear')\n    except:\n        vorticity[:,:,ij]=divergence[:,:,ij]=np.nan\n        continue\n    nabla_dot_u,nabla_cross_u=convergence_vorticity(u_xh,v_xh,xi,yi,dim_order='xy')\n    vorticity[:,:,ij]=nabla_cross_u*100\n    divergence[:,:,ij]=nabla_dot_u*100\n\n\nplt.figure(figsize=(14,10))\nax=plt.subplot(221)\nCS=ax.contourf(xi,Hi,vorticity[:,np.where(yi==0)[0][0],:].T,cmap='bwr',levels=np.linspace(np.nanmin(vorticity),np.nanmax(vorticity),10))\n#plt.colorbar(CS)\nplt.xlim([-45,45])\nplt.ylim([0,2800])\nplt.title('Vertical vorticity W-E Height Cross section')\nax=plt.subplot(222)\nCS=ax.contourf(yi,Hi,vorticity[np.where(xi==0)[0][0],:,:].T,cmap='bwr',levels=np.linspace(np.nanmin(vorticity),np.nanmax(vorticity),10))\nplt.colorbar(CS,label=r'$10^{-2}$s$^{-1}$')\nplt.xlim([-45,45])\nplt.ylim([0,2800])\nplt.title('Vertical vorticity N-S Height Cross section')\nax=plt.subplot(223)\nCS=ax.contourf(yi,Hi,divergence[:,np.where(yi==0)[0][0],:].T,cmap='bwr',levels=np.linspace(np.nanmin(divergence),np.nanmax(divergence),10))\n#plt.colorbar(CS)\nplt.xlim([-45,45])\nplt.ylim([0,2800])\nplt.title('Horizontal divergence W-E Height Cross section')\nax=plt.subplot(224)\nCS=ax.contourf(yi,Hi,divergence[np.where(xi==0)[0][0],:,:].T,cmap='bwr',levels=np.linspace(np.nanmin(divergence),np.nanmax(divergence),10))\nplt.colorbar(CS,label=r'$10^{-2}$s$^{-1}$')\nplt.xlim([-45,45])\nplt.ylim([0,2800])\nplt.title('Horizontal divergence N-S Height Cross section')\nplt.suptitle('Kinematic plots for '+storm+' on '+sdate,fontsize=15)\nplt.savefig(figdir+'axisym/kinematic'+sdate+'.png')\n#plt.close()\nplt.show()\n# Radial average\nri=np.arange(0,120,10)\n#u_xh=scipy.interpolate.griddata((radius,Height),u_cartesian[indices], (ri[None,:], Hi[:,None]),method='linear')\n#v_xh=scipy.interpolate.griddata((radius,Height),v_cartesian[indices], (ri[None,:], Hi[:,None]),method='linear')\n\n# Plan views at 150 m, 400 m, 800 m, 2000 m,\nHeights=[150,400,800,2000]\nfig=plt.figure(figsize=(18,8))\nfor index,height in enumerate(Heights):\n    ax=plt.subplot(241+index)\n    try:\n        CS=ax.contourf(xi,yi,vorticity[:,:,np.where(Hi==height)[0][0]],cmap='bwr',levels=np.linspace(np.nanmin(vorticity[:,:,np.where(Hi==height)[0][0]]),np.nanmax(vorticity),12))\n    except:\n        continue\n    #plt.colorbar(CS)\n    plt.colorbar(CS,label=r'$10^{-2}$s$^{-1}$')\n    plt.xlim([-45,45])\n    plt.ylim([-45,45])\n    plt.title('Vertical vorticity at '+str(height)+' m')\n    ax=plt.subplot(245+index)\n    CS=ax.contourf(xi,yi,divergence[:,:,np.where(Hi==height)[0][0]],cmap='bwr',levels=np.linspace(np.nanmin(divergence[:,:,np.where(Hi==height)[0][0]]),np.nanmax(divergence),12))\n    plt.colorbar(CS,label=r's$^{-1}$')\n    plt.xlim([-45,45])\n    plt.ylim([-45,45])\n    plt.title('Horizontal divergence at '+str(height)+' m')\nplt.suptitle('Kinematic plots for '+storm+' on '+sdate,fontsize=15)#\nplt.savefig(figdir+'planviews/plankinematic'+sdate+'.png')\nplt.close()"
      ]
    }
  ],
  "metadata": {
    "kernelspec": {
      "display_name": "Python 3",
      "language": "python",
      "name": "python3"
    },
    "language_info": {
      "codemirror_mode": {
        "name": "ipython",
        "version": 3
      },
      "file_extension": ".py",
      "mimetype": "text/x-python",
      "name": "python",
      "nbconvert_exporter": "python",
      "pygments_lexer": "ipython3",
      "version": "3.6.3"
    }
  },
  "nbformat": 4,
  "nbformat_minor": 0
}
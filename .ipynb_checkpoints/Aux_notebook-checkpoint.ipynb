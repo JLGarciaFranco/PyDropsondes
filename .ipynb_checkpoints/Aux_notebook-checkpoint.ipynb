{
 "cells": [
  {
   "cell_type": "code",
   "execution_count": 1,
   "metadata": {
    "collapsed": true
   },
   "outputs": [],
   "source": [
    "import numpy as np\n",
    "from toolbox import * \n",
    "sampleperiods={datetime.datetime(2005, 9, 19, 16, 0, 0):datetime.datetime(2005,9,20,5,0,0),datetime.datetime(2005, 9, 20, 10, 0, 41):datetime.datetime(2005,9,21,3,0,0),datetime.datetime(2005, 9, 22, 5, 33, 41):datetime.datetime(2005,9,23,3,0,0),datetime.datetime(2005,9,23,6,0,0):datetime.datetime(2005, 9, 24, 7, 3, 27, 0)}"
   ]
  },
  {
   "cell_type": "code",
   "execution_count": 2,
   "metadata": {},
   "outputs": [
    {
     "name": "stdout",
     "output_type": "stream",
     "text": [
      "2005-09-19 12:00:00 2005-09-20 05:00:00\n",
      "[60]\n",
      "2005-09-19 20:30:00 2005-09-19 12:00:00 2005-09-20 05:00:00 2005-09-20 08:30:00\n",
      "[10] 60.0\n",
      "2005-09-20 10:00:41 2005-09-21 03:00:00\n",
      "[95]\n",
      "2005-09-20 18:30:20.500000 2005-09-20 10:00:41 2005-09-21 03:00:00 2005-09-21 06:30:20.500000\n",
      "[25] 83.33333333333333\n",
      "2005-09-22 05:33:41 2005-09-23 03:00:00\n",
      "[125]\n",
      "2005-09-22 16:16:50.500000 2005-09-22 05:33:41 2005-09-23 03:00:00 2005-09-23 04:16:50.500000\n",
      "[-10] 135.0\n",
      "2005-09-23 06:00:00 2005-09-24 07:03:27\n",
      "[105]\n",
      "2005-09-23 18:31:43.500000 2005-09-23 06:00:00 2005-09-24 07:03:27 2005-09-24 06:31:43.500000\n",
      "[ -5 -40] 107.5\n"
     ]
    }
   ],
   "source": [
    "for sampindex,periodskey in enumerate(sampleperiods):\n",
    "\n",
    "    #Allocate starting (stdt) and ending date (endt). Remeber dt is the convetional short-name for date.\n",
    "    stdt=periodskey\n",
    "    endt=sampleperiods[periodskey]\n",
    "    print(stdt,endt)\n",
    "    inten,Ic=periodI('Rita',stdt.year,stdt,endt)"
   ]
  },
  {
   "cell_type": "code",
   "execution_count": null,
   "metadata": {
    "collapsed": true
   },
   "outputs": [],
   "source": []
  }
 ],
 "metadata": {
  "kernelspec": {
   "display_name": "Python 3",
   "language": "python",
   "name": "python3"
  },
  "language_info": {
   "codemirror_mode": {
    "name": "ipython",
    "version": 3
   },
   "file_extension": ".py",
   "mimetype": "text/x-python",
   "name": "python",
   "nbconvert_exporter": "python",
   "pygments_lexer": "ipython3",
   "version": "3.6.3"
  }
 },
 "nbformat": 4,
 "nbformat_minor": 2
}
